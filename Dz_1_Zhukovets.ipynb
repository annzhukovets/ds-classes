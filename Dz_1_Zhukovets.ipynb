{
 "cells": [
  {
   "cell_type": "markdown",
   "metadata": {},
   "source": [
    "На карте Беларуси имеется N городов,каждый с каждым связывает дорога определенной протяженности.\n",
    "Напишите функцию на языке “Python” нахождения ближайшего маршрута из двух городов случайно выбранных из N.\n",
    "Матрица расстояний задается случайным образом.\n"
   ]
  },
  {
   "cell_type": "code",
   "execution_count": 1,
   "metadata": {},
   "outputs": [],
   "source": [
    "import numpy as np"
   ]
  },
  {
   "cell_type": "markdown",
   "metadata": {},
   "source": [
    "Функция minDist находит минимальное значение элемента в массиве dist, который функция получает на входе, и возвращает его индекс. \n",
    "dist содержит в себе данные расстояний между пунктом отправления и всеми остальными городами. \n",
    "В visited_set помечены вершины графа, которые уже были рассмотрены."
   ]
  },
  {
   "cell_type": "code",
   "execution_count": 2,
   "metadata": {},
   "outputs": [],
   "source": [
    "def minDist(dist, visited_set):\n",
    "    min_val = 9999999\n",
    "    min_index = 0\n",
    "    for v in range(len(dist)):\n",
    "        if dist[v] < min_val and visited_set[v] == False:\n",
    "            min_val = dist[v]\n",
    "            min_index = v\n",
    "    return min_index"
   ]
  },
  {
   "cell_type": "markdown",
   "metadata": {},
   "source": [
    "Функция newGraph создает рандомную симметричную матрицу размерности NxN с нулями по диагонали.\n",
    "Встроенная функция tril формирует нижнюю треугольную матрицу из рандомной матрицы rand_M, после чего к ней прибавляется эта же матрица, только транспонированная, а  k равное -1 позволяет оставить нули на диагонали."
   ]
  },
  {
   "cell_type": "code",
   "execution_count": 3,
   "metadata": {},
   "outputs": [],
   "source": [
    "def newGraph(N):\n",
    "    rand_M = np.random.randint(1,200,size=(N,N))\n",
    "    graph = np.tril(rand_M, -1) + np.tril(rand_M, -1).T\n",
    "    return graph"
   ]
  },
  {
   "cell_type": "markdown",
   "metadata": {},
   "source": [
    "Функция returnPath принимает на вход массив, полученный в ходе выполнения алгоритма Дейкстры, в котором хранятся вершины с кратчайших путей в обратном порядке. n1 и n2 - города, между которыми осуществляется поиск кратчайшего маршрута.\n",
    "Пока мы не находим в массиве пункт отправления, мы продалжаем его \"раскручивать\": то есть мы начинаем с элемента на (n2 - 1) - ой позиции, в котором содержится индекс  предшествующего ему города, с кратчайшим маршрутом, действие продолжается до тех пор, пока мы не находим пункт отправления.\n",
    "Для простоты восприятия добавляем к индексу единицу."
   ]
  },
  {
   "cell_type": "code",
   "execution_count": 4,
   "metadata": {},
   "outputs": [],
   "source": [
    "def returnPath(path, n1, n2):\n",
    "    path_n1_n2 = [] \n",
    "    while n1 != n2:\n",
    "        i = 0\n",
    "        path_n1_n2.append(n2)\n",
    "        n2 = path[n2-1]+1\n",
    "        i += 1\n",
    "    path_n1_n2.append(n1)\n",
    "    return path_n1_n2[::-1]    "
   ]
  },
  {
   "cell_type": "markdown",
   "metadata": {},
   "source": [
    "В функция Dijkstra реализован алгоритм Дейкстры поиска кратчайшего маршрута.\n",
    "На входе функция получает:\n",
    "N - количество городов \n",
    "n1 и n2 - города, между которыми нужно найти кратчайший маршрут.\n",
    "Снчала строится матрица расстояний размера NxN, в которой указаны расстояния между городами с соответствующими номерами строк и столбцов, то есть из растояние между n1 и n2 равно значению Matrix[n1,n2] или Matrix[n2,n1].\n",
    "Массив visited_set изначально заполняется значениями False (эти вершины графа (города) ещё не были исследованы), в ходе выполнения индексы исследованных точек изменяются на True.\n",
    "dist - массив кратчайших расстояний, изначально равен значениям между пунктом отправления и остальными горадами.\n",
    "path - массив с индесами городов, из которых найдены кратчайшие маршруты.\n",
    "Первым делом находится индекс минимального элемента в массиве dist. После чего начинается анализ кратчайшего маршрута, если расстояние через точку u меньше найденного ранее, то значение в массиве dist изменяется и точка u помечается как посещенная.\n",
    "В итоге выводится кратчайший маршрут между n1 и n2."
   ]
  },
  {
   "cell_type": "code",
   "execution_count": 5,
   "metadata": {},
   "outputs": [],
   "source": [
    "def Dijkstra(N, n1, n2):\n",
    "    graph = newGraph(N)\n",
    "    print('Матрица расстояний:\\n', graph)\n",
    "    visited_set = [False] * N\n",
    "    dist = graph[n1 - 1]\n",
    "    path = [n1-1] * N\n",
    "    visited_set[n1 - 1] = True\n",
    "    l = len(graph[n1])\n",
    "    for i in range(l):\n",
    "        u = minDist(dist, visited_set)\n",
    "        for v in range(l):\n",
    "            if graph[u][v] > 0 and visited_set[u] == False and dist[v] > dist[u] + graph[u][v]:\n",
    "                dist[v] = dist[u] + graph[u][v]\n",
    "                path[v] = u\n",
    "        visited_set[u] = True\n",
    "    print('Кратчайшие расстояния между n1 и остальными городами:\\n', dist)    \n",
    "    print('Кратчайший маршрут между n1 и n2:\\n', returnPath(path, n1, n2))"
   ]
  },
  {
   "cell_type": "code",
   "execution_count": 7,
   "metadata": {},
   "outputs": [
    {
     "name": "stdout",
     "output_type": "stream",
     "text": [
      "Матрица расстояний:\n",
      " [[  0 182 119  76 121]\n",
      " [182   0 157  21 159]\n",
      " [119 157   0  91   1]\n",
      " [ 76  21  91   0  27]\n",
      " [121 159   1  27   0]]\n",
      "Кратчайшие расстояния между n1 и остальными городами:\n",
      " [  0  97 104  76 103]\n",
      "Кратчайший маршрут между n1 и n2:\n",
      " [1, 4, 5]\n"
     ]
    }
   ],
   "source": [
    "Dijkstra(5, 1, 5)"
   ]
  },
  {
   "cell_type": "code",
   "execution_count": null,
   "metadata": {},
   "outputs": [],
   "source": []
  }
 ],
 "metadata": {
  "kernelspec": {
   "display_name": "Python 3",
   "language": "python",
   "name": "python3"
  },
  "language_info": {
   "codemirror_mode": {
    "name": "ipython",
    "version": 3
   },
   "file_extension": ".py",
   "mimetype": "text/x-python",
   "name": "python",
   "nbconvert_exporter": "python",
   "pygments_lexer": "ipython3",
   "version": "3.8.3"
  }
 },
 "nbformat": 4,
 "nbformat_minor": 4
}
