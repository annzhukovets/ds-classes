{
 "cells": [
  {
   "cell_type": "markdown",
   "metadata": {},
   "source": [
    "### Упражнение"
   ]
  },
  {
   "cell_type": "markdown",
   "metadata": {},
   "source": [
    "1. Оптимизировать загрузку памяти датафреймом статистики преступлений в Лос-Анджелесе.\n",
    "- Столбец 'Date Reported' должн быть представлен типом данных  datetime64[ns]\n",
    "2. Добавить столбец полного времени совершенного преступления (тип данных datetime64[ns])\n",
    "3. Добавить столбец дня недели совершенного преступления (тип данных category)"
   ]
  },
  {
   "cell_type": "markdown",
   "metadata": {},
   "source": [
    "### Упражнение по визуализации"
   ]
  },
  {
   "cell_type": "markdown",
   "metadata": {},
   "source": [
    "1. Стилизировать столбец таблицы общего количества преступлений по дням недели.    \n",
    "\n",
    "\n",
    "2. Построить распределение количества преступлений по дням недедли в зависимости от района:\n",
    "- линейна диаграмма;\n",
    "- гистограмма по дням;\n",
    "- столбчатая диаграмма накопления ( stacked bar chart); \n",
    "- площадная диаграмма (стыковачная и нестыковочная;\n",
    "- диаграмма рассеяния количества преступлений по дням недели (два графика scatter_matrix и pairplot);\n",
    "- распределение количества преступлений в любой день недели (например:пятница).\n",
    "\n",
    "3. Анализ количества преступлений по районам:\n",
    "- гистограмма распределения количества преступлений в зависимости от района;\n",
    "- распределение количества преступлений за любой год (например: 2010 год);\n",
    "- показать через jointplot динамику изменений количества преступлений в сравнении 2010 и 2017 года;\n",
    "- годовая динамика изменения количества преступлений по районам (линейный график  с легендами и удобным масштабом).\n",
    "\n",
    "4. Анализ преступлений в заданном районе:\n",
    "- количество отдельно взятого вида преступления распределенного по дням недели;\n",
    "- построить таблицу (вид преступления по дням недели) и подсветить максимальные и минимальные значения для каждого вида преступления разным цветом;\n",
    "- сравнение распределения 20 наиболее часто встречающихся преступлений по дня недели для заданного района (показать через boxplot);\n",
    "- проанализировать коэфициент корреляции вида преступления и дня недели (результат в виде heatmap на которой отображено только корреляция вида преступления от дня недели)\n",
    "- линейный график коэффициент корреляции дня недели и вида преступления в абсолютных значениях.\n",
    "\n",
    "5. Сравнение количества преступлений по дням недели и районам:\n",
    "- построить линейный график для трех любых районов;\n",
    "- построить линейный график для всех районов сразу.\n",
    "\n",
    "6. Доля преступлений в конкретном районе от общего количества:\n",
    "- Bar график для всех районов по всей статистики;\n",
    "- Bar график для всех районов по годам.\n",
    "\n",
    "7. box график статистики всех преступлений в распределении по годам.   \n",
    "\n",
    "\n",
    "8. Интерактивный график:\n",
    "- количество преступлений от дня недели для отдельного района;\n",
    "- количество преступлений от района для от дельного дня недели."
   ]
  },
  {
   "cell_type": "code",
   "execution_count": null,
   "metadata": {},
   "outputs": [],
   "source": [
    "# отключаем предупреждения Anaconda\n",
    "import warnings\n",
    "warnings.simplefilter('ignore')\n",
    "\n",
    "import pandas as pd\n",
    "import numpy as np\n",
    "\n",
    "import datetime\n",
    "\n",
    "# отображать графики прямо в jupyter'e\n",
    "%pylab inline\n",
    "#графики в svg выглядят более четкими\n",
    "%config InlineBackend.figure_format = 'retina' # ’retina’ (svg) - для еще более четкого отображения\n",
    "\n",
    "#увеличим дефолтный размер графиков\n",
    "from pylab import rcParams\n",
    "rcParams['figure.figsize'] = 6,3\n",
    "import seaborn as sns\n",
    "\n",
    "# задаем некоторые настройки pandas, регулирующие\n",
    "# формат вывода\n",
    "# pd.set_option('display.notebook_repr_html', False)\n",
    "# pd.set_option('display.max_columns', None)\n",
    "# pd.set_option('display.max_rows', None)\n",
    "# pd.set_option('display.width', None)\n",
    "\n",
    "# импортируем библиотеку matplotlib для построения графиков\n",
    "import matplotlib.pyplot as plt\n",
    "%matplotlib inline\n",
    "\n",
    "from pandas.plotting import scatter_matrix\n",
    "\n",
    "# задаем стартовое значение для генератора\n",
    "# случайных чисел\n",
    "seedval = 111111\n",
    "\n",
    "from plotly.offline import init_notebook_mode, iplot\n",
    "import plotly\n",
    "import plotly.graph_objs as go\n",
    "\n",
    "init_notebook_mode(connected=True)"
   ]
  },
  {
   "cell_type": "code",
   "execution_count": null,
   "metadata": {},
   "outputs": [],
   "source": [
    "# создание словаря, в котором ключи - имена столбцов, \n",
    "# а значения - типы столбцов\n",
    "column_types = {   'DR Number': 'int64',\n",
    "    'Time Occurred': 'int64',\n",
    "    'Area ID': 'int64',\n",
    "    'Area Name': 'category',\n",
    "    'Reporting District': 'int64',           \n",
    "    'Crime Code': 'int64',\n",
    "    'Crime Code Description': 'category',\n",
    "    'MO Codes': 'category',\n",
    "    'Victim Age': 'float32',\n",
    "    'Victim Sex': 'category',\n",
    "    'Victim Descent': 'category',\n",
    "    'Premise Code': 'float32',\n",
    "    'Premise Description': 'category',\n",
    "    'Weapon Used Code': 'float32',\n",
    "    'Weapon Description': 'category',\n",
    "    'Status Code': 'category',\n",
    "    'Status Description': 'category',\n",
    "    'Crime Code 1': 'float32',\n",
    "    'Crime Code 2': 'float32',\n",
    "    'Crime Code 3': 'float32',\n",
    "    'Crime Code 4': 'float32',\n",
    "    'Address': 'category',\n",
    "    'Cross Street': 'category',\n",
    "    'Location ': 'category'}"
   ]
  },
  {
   "cell_type": "code",
   "execution_count": null,
   "metadata": {},
   "outputs": [],
   "source": [
    "# считывание данных с нужными типами из словаря, преобразование даты\n",
    "crime_data = pd.read_csv('Crime_Data_from_2010.csv', \n",
    "                         dtype = column_types,\n",
    "                         parse_dates = ['Date Occurred', 'Date Reported'],\n",
    "                         infer_datetime_format = True)\n",
    "crime_data.info(memory_usage='deep')"
   ]
  },
  {
   "cell_type": "code",
   "execution_count": null,
   "metadata": {},
   "outputs": [],
   "source": [
    "# создание NumPy массива и обработка его в цикле\n",
    "# для добавления нулей ко времени, в котором содержится только один символ\n",
    "Time_Occurred_NP = np.array(crime_data['Time Occurred'], dtype = np.str)\n",
    "for i in range(0, len(Time_Occurred_NP)):\n",
    "    if len(Time_Occurred_NP[i]) <= 1:\n",
    "        Time_Occurred_NP[i] = Time_Occurred_NP[i] + '0'\n",
    "crime_data['Time Occurred'] = Time_Occurred_NP     "
   ]
  },
  {
   "cell_type": "code",
   "execution_count": null,
   "metadata": {},
   "outputs": [],
   "source": [
    "# создание столбца полного времени совершенного преступления \n",
    "crime_data['Date_Occurred_Full'] = crime_data['Date Occurred'].astype(str) + ' ' + crime_data['Time Occurred']"
   ]
  },
  {
   "cell_type": "code",
   "execution_count": null,
   "metadata": {},
   "outputs": [],
   "source": [
    "# представление полного времени совершенного преступления в читаемом виде\n",
    "crime_data['Date_Occurred_Full'] = pd.to_datetime(crime_data['Date_Occurred_Full'].str.strip(),\n",
    "                                                  format='%Y-%m-%d %H%M')"
   ]
  },
  {
   "cell_type": "code",
   "execution_count": null,
   "metadata": {},
   "outputs": [],
   "source": [
    "# добавлениe столбца дня недели совершённого преступления\n",
    "# изменение типа на category\n",
    "crime_data['Weekday_Occurred'] = crime_data['Date_Occurred_Full'].dt.strftime('%A').astype('category')"
   ]
  },
  {
   "cell_type": "code",
   "execution_count": null,
   "metadata": {},
   "outputs": [],
   "source": [
    "# создание датафрейма с количеством престплений по дням недели\n",
    "weekday_occ_count = pd.DataFrame(crime_data['Weekday_Occurred'].value_counts().values,\n",
    "                                 index = crime_data['Weekday_Occurred'].value_counts().index, \n",
    "                                 columns = ['Crime_Occured'])"
   ]
  },
  {
   "cell_type": "code",
   "execution_count": null,
   "metadata": {},
   "outputs": [],
   "source": [
    "#  стилизация столбца\n",
    "weekday_occ_count.style.bar(color = '#f09080')"
   ]
  },
  {
   "cell_type": "code",
   "execution_count": null,
   "metadata": {},
   "outputs": [],
   "source": [
    "# создание сводной таблицы из датафрейма\n",
    "# для вывода количетсва преступлений по дням недели и районам\n",
    "area_weekday_plot = crime_data.pivot_table(\n",
    "                        index = 'Area Name', \n",
    "                        columns = 'Weekday_Occurred', \n",
    "                        values = 'Date_Occurred_Full', \n",
    "                        aggfunc = 'count')\n",
    "\n",
    "area_weekday_plot.head()"
   ]
  },
  {
   "cell_type": "code",
   "execution_count": null,
   "metadata": {},
   "outputs": [],
   "source": [
    "# линейна диаграмма распределения количества преступлений по дням недедли в зависимости от района\n",
    "area_weekday_plot.plot(grid = True, figsize = (10, 5), colormap = 'Set2');"
   ]
  },
  {
   "cell_type": "code",
   "execution_count": null,
   "metadata": {},
   "outputs": [],
   "source": [
    "# гистограмма по дням распределения количества преступлений по дням недедли в зависимости от района\n",
    "area_weekday_plot.hist(figsize = (12,8), color = '#78abff');"
   ]
  },
  {
   "cell_type": "code",
   "execution_count": null,
   "metadata": {},
   "outputs": [],
   "source": [
    "# столбчатая диаграмма накопления распределения количества преступлений по дням недедли в зависимости от района\n",
    "area_weekday_plot.plot(kind='bar', stacked=True, figsize = (15,7), rot = 45, colormap = 'Pastel2');"
   ]
  },
  {
   "cell_type": "code",
   "execution_count": null,
   "metadata": {},
   "outputs": [],
   "source": [
    "# площадная стыковачная диаграмма распределения количества преступлений по дням недедли в зависимости от района\n",
    "area_weekday_plot.plot(kind='area', figsize = (11,7), colormap = 'Pastel1');"
   ]
  },
  {
   "cell_type": "code",
   "execution_count": null,
   "metadata": {},
   "outputs": [],
   "source": [
    "#  площадная нестыковачная диаграмма накопления распределения количества преступлений по дням недедли в зависимости от района\n",
    "area_weekday_plot.plot(kind='area', stacked = False, figsize = (11, 7), colormap = 'Accent');"
   ]
  },
  {
   "cell_type": "code",
   "execution_count": null,
   "metadata": {},
   "outputs": [],
   "source": [
    "# диаграмма рассеяния количества преступлений по дням недели (pairplot)\n",
    "sns.pairplot(area_weekday_plot, plot_kws=dict(marker=\"+\", linewidth=2));"
   ]
  },
  {
   "cell_type": "code",
   "execution_count": null,
   "metadata": {},
   "outputs": [],
   "source": [
    "# диаграмма рассеяния количества преступлений по дням недели (scatter_matrix)\n",
    "scatter_matrix(area_weekday_plot, alpha=0.6, figsize=(17, 17), diagonal='kde');"
   ]
  },
  {
   "cell_type": "code",
   "execution_count": null,
   "metadata": {},
   "outputs": [],
   "source": [
    "# распределение количества преступлений в любой день недели (например:пятница)\n",
    "area_weekday_plot['Friday'].hist(density=True, color = '#bcbd') \n",
    "area_weekday_plot['Friday'].plot(kind='kde', figsize=(10,8), color = '#ffd300');"
   ]
  },
  {
   "cell_type": "code",
   "execution_count": null,
   "metadata": {},
   "outputs": [],
   "source": [
    "# распределение количества преступлений в любой день недели (например:пятница)\n",
    "%config InlineBackend.figure_format = 'retina' \n",
    "sns.distplot(area_weekday_plot['Friday'], color = '#bcbd', bins = 10);"
   ]
  },
  {
   "cell_type": "code",
   "execution_count": null,
   "metadata": {},
   "outputs": [],
   "source": [
    "# гистограмма распределения количества преступлений в зависимости от района\n",
    "area_occ = crime_data['Area Name'].value_counts()\n",
    "area_occ.plot(kind = 'bar', figsize=(10,8), color = '#ffbd9d', rot = 45);"
   ]
  },
  {
   "cell_type": "code",
   "execution_count": null,
   "metadata": {},
   "outputs": [],
   "source": [
    "# создание сводной таблицы для анализа по годам\n",
    "area_year = crime_data.pivot_table(\n",
    "                        index = 'Area Name', \n",
    "                        columns = crime_data['Date_Occurred_Full'].dt.strftime('%Y'), \n",
    "                        values = 'Date_Occurred_Full', \n",
    "                        aggfunc = 'count')"
   ]
  },
  {
   "cell_type": "code",
   "execution_count": null,
   "metadata": {},
   "outputs": [],
   "source": [
    "# распределение количества преступлений за любой год (например: 2010 год)\n",
    "sns.distplot(area_year['2010'], color = '#bcbd', bins = 10);"
   ]
  },
  {
   "cell_type": "code",
   "execution_count": null,
   "metadata": {},
   "outputs": [],
   "source": [
    "# динамика изменений количества преступлений в сравнении 2010 и 2017 года (через jointplot)\n",
    "sns.jointplot(x='2010', y='2017', data=area_year, kind='scatter', color = '#ddcaff', height = 5);"
   ]
  },
  {
   "cell_type": "code",
   "execution_count": null,
   "metadata": {},
   "outputs": [],
   "source": [
    "# годовая динамика изменения количества преступлений по районам (линейный график с легендами и удобным масштабом)\n",
    "area_year.T.plot(grid = True, figsize = (15, 6), colormap = 'Set2', xlim = (0,7));"
   ]
  },
  {
   "cell_type": "code",
   "execution_count": null,
   "metadata": {},
   "outputs": [],
   "source": [
    "# создание сводной таблицы для анализа по преступлениям\n",
    "crime_weekday = crime_data.pivot_table(\n",
    "                        index = 'Weekday_Occurred', \n",
    "                        columns = 'Crime Code Description', \n",
    "                        values = 'Date_Occurred_Full', \n",
    "                        aggfunc = 'count')\n",
    "crime_weekday"
   ]
  },
  {
   "cell_type": "code",
   "execution_count": null,
   "metadata": {},
   "outputs": [],
   "source": [
    "# количество отдельно взятого вида преступления распределенного по дням недели\n",
    "crime_weekday['BATTERY POLICE (SIMPLE)'].plot(kind = 'bar',  figsize = (8, 6), rot = 20, color = '#d3c2f4');"
   ]
  },
  {
   "cell_type": "code",
   "execution_count": null,
   "metadata": {},
   "outputs": [],
   "source": [
    "# функция подсветки максимальных значений в таблице\n",
    "def highlight_max(s):\n",
    "    '''\n",
    "    highlight the maximum in a Series red.\n",
    "    '''\n",
    "    is_max = s == s.max()\n",
    "    return ['background-color: #ff6444' if v else '' for v in is_max]"
   ]
  },
  {
   "cell_type": "code",
   "execution_count": null,
   "metadata": {},
   "outputs": [],
   "source": [
    "# функция подсветки минимальных значений в таблице\n",
    "def highlight_min(s):\n",
    "    '''\n",
    "    highlight the minimum in a Series green.\n",
    "    '''\n",
    "    is_min = s == s.min()\n",
    "    return ['background-color: #afff9d' if v else '' for v in is_min]"
   ]
  },
  {
   "cell_type": "code",
   "execution_count": null,
   "metadata": {},
   "outputs": [],
   "source": [
    "# построение таблицы (вид преступления по дням недели) \n",
    "# подсветка максимальных и минимальных значений для каждого вида преступления разным цветом\n",
    "crime_weekday.style.apply(highlight_max).apply(highlight_min)"
   ]
  },
  {
   "cell_type": "code",
   "execution_count": null,
   "metadata": {},
   "outputs": [],
   "source": [
    "# создание датафрейма для анализа преступлений по неделям и районам\n",
    "crime_weekday_area = crime_data[['Area Name', 'Crime Code Description', 'Weekday_Occurred']].value_counts().reset_index()\n",
    "crime_weekday_area.rename(columns = {0: 'Crime_Occured'}, inplace = True)\n",
    "crime_weekday_area_Central = crime_weekday_area[crime_weekday_area['Area Name'] == 'Central']\n",
    "crime_weekday_area_Central['Area Name'] = crime_weekday_area_Central['Area Name'].astype(str)\n",
    "crime_weekday_area_Central['Crime Code Description'] = crime_weekday_area_Central['Crime Code Description'].astype(str)"
   ]
  },
  {
   "cell_type": "code",
   "execution_count": null,
   "metadata": {},
   "outputs": [],
   "source": [
    "# сравнение распределения 20 наиболее часто встречающихся преступлений \n",
    "# по дням недели для заданного района (показать через boxplot)\n",
    "sns.boxplot(x=\"Weekday_Occurred\", y=\"Crime_Occured\", \n",
    "            data=crime_weekday_area_Central.head(20), palette = 'pastel');"
   ]
  },
  {
   "cell_type": "code",
   "execution_count": null,
   "metadata": {},
   "outputs": [],
   "source": [
    "# анализ коэфициента корреляции вида преступления и дня недели \n",
    "# (результат в виде heatmap на которой отображена только корреляция вида преступления от дня недели)\n",
    "# создание сводной таблицы для анализа корреляции\n",
    "crime_weekday_area_pt = crime_weekday_area_Central.pivot_table(\n",
    "                        index = 'Weekday_Occurred', \n",
    "                        columns = 'Crime Code Description', \n",
    "                        values = 'Crime_Occured', \n",
    "                        aggfunc = 'sum')\n",
    "crime_weekday_area_pt.corr()"
   ]
  },
  {
   "cell_type": "code",
   "execution_count": null,
   "metadata": {},
   "outputs": [],
   "source": [
    "sns.heatmap(crime_weekday_area_pt.corr().tail(1));"
   ]
  },
  {
   "cell_type": "code",
   "execution_count": null,
   "metadata": {},
   "outputs": [],
   "source": [
    "# линейный график коэффициента корреляции дня недели и вида преступления в абсолютных значениях\n",
    "# abs(crime_weekday_area_pt.corr()).plot(figsize = (15,5));"
   ]
  },
  {
   "cell_type": "code",
   "execution_count": null,
   "metadata": {},
   "outputs": [],
   "source": [
    "# для удобства анализа преступлений по неделям и районам транспонирую таблицк из второго задания\n",
    "area_weekday = area_weekday_plot.T"
   ]
  },
  {
   "cell_type": "code",
   "execution_count": null,
   "metadata": {},
   "outputs": [],
   "source": [
    "# построение линейного графика для трех любых районов\n",
    "trace0 = go.Scatter(\n",
    "    x = area_weekday.index,\n",
    "    y = area_weekday['Central'],\n",
    "    name = 'Central'\n",
    ")\n",
    "\n",
    "trace1 = go.Scatter(\n",
    "    x = area_weekday.index,\n",
    "    y = area_weekday['Southwest'],\n",
    "    name='Southwest'\n",
    ")\n",
    "\n",
    "trace2 = go.Scatter(\n",
    "    x = area_weekday.index,\n",
    "    y = area_weekday['Southeast'],\n",
    "    name='Southeast'\n",
    ")\n",
    "\n",
    "data = [trace0, trace1, trace2]\n",
    "layout = {'title': 'Statistics of Crimes Occurred'}\n",
    "\n",
    "fig = go.Figure(data=data, layout=layout)\n",
    "\n",
    "iplot(fig, show_link=False)"
   ]
  },
  {
   "cell_type": "code",
   "execution_count": null,
   "metadata": {},
   "outputs": [],
   "source": [
    "# построение линейного графика для всех районов сразу\n",
    "data = []\n",
    "\n",
    "for col in area_weekday.columns:\n",
    "    data.append(\n",
    "        go.Scatter(x = area_weekday.index,\n",
    "                   y = area_weekday[col], \n",
    "                   name = col)\n",
    "    )\n",
    "\n",
    "layout = {'title': 'Statistics of Crimes Occurred'}    \n",
    "    \n",
    "fig = go.Figure(data=data, layout=layout) \n",
    "\n",
    "iplot(data, show_link = False)"
   ]
  },
  {
   "cell_type": "code",
   "execution_count": null,
   "metadata": {},
   "outputs": [],
   "source": [
    "# копирование части датафрейма для расчёта доли преступлений\n",
    "area_data = crime_data['Area Name'].value_counts().reset_index()\n",
    "area_data.rename(columns = {'index': 'Area Name', 'Area Name': 'Crime_Occurred'}, inplace = True)\n",
    "area_data['Crime_Occurred_Share'] = 100*area_data['Crime_Occurred']/area_data['Crime_Occurred'].sum()\n",
    "area_data"
   ]
  },
  {
   "cell_type": "code",
   "execution_count": null,
   "metadata": {},
   "outputs": [],
   "source": [
    "# Доля преступлений в конкретном районе от общего количества \n",
    "# Bar график для всех районов по всей статистике\n",
    "trace0 = go.Bar(\n",
    "    x=area_data['Area Name'],\n",
    "    y=area_data.Crime_Occurred_Share,\n",
    "    name='Crime Occurred Share',\n",
    "    orientation = 'v'\n",
    ")\n",
    "\n",
    "\n",
    "data = [trace0]\n",
    "layout = {'title': 'Crime Occurred Share'}\n",
    "\n",
    "fig = go.Figure(data=data, layout=layout)\n",
    "\n",
    "iplot(fig, show_link=False)"
   ]
  },
  {
   "cell_type": "code",
   "execution_count": null,
   "metadata": {},
   "outputs": [],
   "source": [
    "# транспонирование сводной таблицы из 3 задания для рассчёта\n",
    "# доли преступлений в конкретном районе от общего количества для всех районов по годам\n",
    "area_year_share = area_year.T"
   ]
  },
  {
   "cell_type": "code",
   "execution_count": null,
   "metadata": {},
   "outputs": [],
   "source": [
    "# Доля преступлений в конкретном районе от общего количества \n",
    "# Bar график для всех районов по годам\n",
    "data = []\n",
    "\n",
    "for col in area_year_share.columns:\n",
    "    data.append(\n",
    "        go.Bar(x = area_year_share.index,\n",
    "                   y = 100*area_year_share[col]/area_year_share.sum(axis = 1), \n",
    "                   name = col)\n",
    "    )\n",
    "\n",
    "layout = {'title': 'Statistics of Crimes Occurred'}    \n",
    "    \n",
    "fig = go.Figure(data=data, layout=layout) \n",
    "\n",
    "iplot(data, show_link = False)"
   ]
  },
  {
   "cell_type": "code",
   "execution_count": null,
   "metadata": {},
   "outputs": [],
   "source": [
    "# box график статистики всех преступлений в распределении по годам\n",
    "data = []\n",
    "\n",
    "for i in area_year_share.index:\n",
    "    data.append(\n",
    "        go.Box(y = area_year_share.loc[i],\n",
    "                   name = i)\n",
    "    )\n",
    "\n",
    "iplot(data, show_link = False)"
   ]
  },
  {
   "cell_type": "code",
   "execution_count": null,
   "metadata": {},
   "outputs": [],
   "source": [
    "# количество преступлений от дня недели для отдельного района\n",
    "traces = []\n",
    "for area in area_weekday.columns:\n",
    "    traces.append(\n",
    "        go.Scatter(\n",
    "            x=area_weekday[area].index,\n",
    "            y=area_weekday[area].values,\n",
    "            name = area, \n",
    "            visible = (area == '77th Street'))\n",
    "    )\n",
    "    \n",
    "layout = go.Layout(\n",
    "    title='Count of crimes for area by weekdays',\n",
    "    updatemenus=list([\n",
    "        dict(\n",
    "            x=-0.05,\n",
    "            y=1,\n",
    "            yanchor='top',\n",
    "            buttons=list([\n",
    "                dict(\n",
    "                    args=['visible', [True] + [False]*20],\n",
    "                    label='77th Street',\n",
    "                    method='restyle'\n",
    "                ),\n",
    "                dict(\n",
    "                    args=['visible', [False] + [True] + [False]*19],\n",
    "                    label='Central',\n",
    "                    method='restyle'\n",
    "                ),\n",
    "                dict(\n",
    "                    args=['visible', [False]*2 + [True] + [False]*18],\n",
    "                    label='Devonshire',\n",
    "                    method='restyle'\n",
    "                ),\n",
    "                dict(\n",
    "                    args=['visible', [False]*3 + [True] + [False]*17],\n",
    "                    label='Foothill',\n",
    "                    method='restyle'\n",
    "                ),\n",
    "                dict(\n",
    "                    args=['visible', [False]*4 + [True] + [False]*16],\n",
    "                    label='Harbor',\n",
    "                    method='restyle'\n",
    "                ),\n",
    "                dict(\n",
    "                    args=['visible', [False]*5 + [True] + [False]*15],\n",
    "                    label='Hollenbeck',\n",
    "                    method='restyle'\n",
    "                ),\n",
    "                dict(\n",
    "                    args=['visible', [False]*6 + [True] + [False]*14],\n",
    "                    label='Mission',\n",
    "                    method='restyle'\n",
    "                ),\n",
    "                dict(\n",
    "                    args=['visible', [False]*7 + [True] + [False]*13],\n",
    "                    label='N Hollywood',\n",
    "                    method='restyle'\n",
    "                ),\n",
    "                dict(\n",
    "                    args=['visible', [False]*8 + [True] + [False]*12],\n",
    "                    label='Newton',\n",
    "                    method='restyle'\n",
    "                ),\n",
    "                dict(\n",
    "                    args=['visible', [False]*9 + [True] + [False]*11],\n",
    "                    label='Northeast',\n",
    "                    method='restyle'\n",
    "                ),\n",
    "                dict(\n",
    "                    args=['visible', [False]*10 + [True] + [False]*10],\n",
    "                    label='Olympic',\n",
    "                    method='restyle'\n",
    "                ),\n",
    "                dict(\n",
    "                    args=['visible', [False]*11 + [True] + [False]*9],\n",
    "                    label='Pacific',\n",
    "                    method='restyle'\n",
    "                ),\n",
    "                dict(\n",
    "                    args=['visible', [False]*12 + [True] + [False]*8],\n",
    "                    label='Rampart',\n",
    "                    method='restyle'\n",
    "                ),\n",
    "                dict(\n",
    "                    args=['visible', [False]*13 + [True] + [False]*7],\n",
    "                    label='Southeast',\n",
    "                    method='restyle'\n",
    "                ),\n",
    "                dict(\n",
    "                    args=['visible', [False]*14 + [True] + [False]*6],\n",
    "                    label='Southwest',\n",
    "                    method='restyle'\n",
    "                ),\n",
    "                dict(\n",
    "                    args=['visible', [False]*15 + [True] + [False]*5],\n",
    "                    label='Topanga',\n",
    "                    method='restyle'\n",
    "                ),\n",
    "                dict(\n",
    "                    args=['visible', [False]*16 + [True] + [False]*4],\n",
    "                    label='Van Nuys',\n",
    "                    method='restyle'\n",
    "                ),\n",
    "                dict(\n",
    "                    args=['visible', [False]*17 + [True] + [False]*3],\n",
    "                    label='West Valley',\n",
    "                    method='restyle'\n",
    "                ),\n",
    "                dict(\n",
    "                    args=['visible', [False]*18 + [True] + [False]*2],\n",
    "                    label='Hollywood',\n",
    "                    method='restyle'\n",
    "                ),\n",
    "                dict(\n",
    "                    args=['visible', [False]*19 + [True] + [False]*1],\n",
    "                    label='West LA',\n",
    "                    method='restyle'\n",
    "                ),\n",
    "                dict(\n",
    "                    args=['visible', [False]*20 + [True]],\n",
    "                    label='Wilshire',\n",
    "                    method='restyle'\n",
    "                )          \n",
    "            ]),\n",
    "        )\n",
    "    ]),\n",
    ")\n",
    "\n",
    "fig = {'data': traces, 'layout': layout}\n",
    "iplot(fig, show_link=False)"
   ]
  },
  {
   "cell_type": "code",
   "execution_count": null,
   "metadata": {},
   "outputs": [],
   "source": [
    "area_weekday_t = area_weekday.T"
   ]
  },
  {
   "cell_type": "code",
   "execution_count": null,
   "metadata": {},
   "outputs": [],
   "source": [
    "# количество преступлений от района для отдельного дня недели\n",
    "traces = []\n",
    "for weekday in area_weekday_t.columns:\n",
    "    traces.append(\n",
    "        go.Scatter(\n",
    "            x=area_weekday_t[weekday].index,\n",
    "            y=area_weekday_t[weekday].values,\n",
    "            name = weekday, \n",
    "            visible = (weekday == 'Friday'))\n",
    "    )\n",
    "    \n",
    "layout = go.Layout(\n",
    "    title='Count of crimes for weekday by areas',\n",
    "    updatemenus=list([\n",
    "        dict(\n",
    "            x=-0.05,\n",
    "            y=1,\n",
    "            yanchor='top',\n",
    "            buttons=list([\n",
    "                dict(\n",
    "                    args=['visible', [True] + [False]*6],\n",
    "                    label='Friday',\n",
    "                    method='restyle'\n",
    "                ),\n",
    "                dict(\n",
    "                    args=['visible', [False] + [True] + [False]*5],\n",
    "                    label='Monday',\n",
    "                    method='restyle'\n",
    "                ),\n",
    "                dict(\n",
    "                    args=['visible', [False]*2 + [True] + [False]*4],\n",
    "                    label='Saturday',\n",
    "                    method='restyle'\n",
    "                ),\n",
    "                dict(\n",
    "                    args=['visible', [False]*3 + [True] + [False]*3],\n",
    "                    label='Sunday',\n",
    "                    method='restyle'\n",
    "                ),\n",
    "                dict(\n",
    "                    args=['visible', [False]*4 + [True] + [False]*2],\n",
    "                    label='Thursday',\n",
    "                    method='restyle'\n",
    "                ),\n",
    "                dict(\n",
    "                    args=['visible', [False]*5 + [True] + [False]],\n",
    "                    label='Tuesday',\n",
    "                    method='restyle'\n",
    "                ),\n",
    "                dict(\n",
    "                    args=['visible', [False]*6 + [True]],\n",
    "                    label='Wednesday',\n",
    "                    method='restyle'\n",
    "                )         \n",
    "            ]),\n",
    "        )\n",
    "    ]),\n",
    ")\n",
    "\n",
    "fig = {'data': traces, 'layout': layout}\n",
    "iplot(fig, show_link=False)"
   ]
  },
  {
   "cell_type": "code",
   "execution_count": null,
   "metadata": {},
   "outputs": [],
   "source": []
  }
 ],
 "metadata": {
  "kernelspec": {
   "display_name": "Python 3",
   "language": "python",
   "name": "python3"
  },
  "language_info": {
   "codemirror_mode": {
    "name": "ipython",
    "version": 3
   },
   "file_extension": ".py",
   "mimetype": "text/x-python",
   "name": "python",
   "nbconvert_exporter": "python",
   "pygments_lexer": "ipython3",
   "version": "3.8.3"
  }
 },
 "nbformat": 4,
 "nbformat_minor": 4
}
