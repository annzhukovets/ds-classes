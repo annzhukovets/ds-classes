{
  "nbformat": 4,
  "nbformat_minor": 0,
  "metadata": {
    "kernelspec": {
      "display_name": "Python 3",
      "language": "python",
      "name": "python3"
    },
    "language_info": {
      "codemirror_mode": {
        "name": "ipython",
        "version": 3
      },
      "file_extension": ".py",
      "mimetype": "text/x-python",
      "name": "python",
      "nbconvert_exporter": "python",
      "pygments_lexer": "ipython3",
      "version": "3.8.3"
    },
    "colab": {
      "name": "DZ_8_Zhukovets.ipynb",
      "provenance": []
    }
  },
  "cells": [
    {
      "cell_type": "code",
      "metadata": {
        "id": "FmWn6wdVR1i2",
        "outputId": "b92a2718-aa3c-4117-9074-7ce417f62673"
      },
      "source": [
        "# загружаем данные\n",
        "import pandas as pd\n",
        "import numpy as np\n",
        "\n",
        "ratings = pd.read_csv('data_ml-1m/ratings.csv')\n",
        "ratings.head()"
      ],
      "execution_count": null,
      "outputs": [
        {
          "output_type": "execute_result",
          "data": {
            "text/html": [
              "<div>\n",
              "<style scoped>\n",
              "    .dataframe tbody tr th:only-of-type {\n",
              "        vertical-align: middle;\n",
              "    }\n",
              "\n",
              "    .dataframe tbody tr th {\n",
              "        vertical-align: top;\n",
              "    }\n",
              "\n",
              "    .dataframe thead th {\n",
              "        text-align: right;\n",
              "    }\n",
              "</style>\n",
              "<table border=\"1\" class=\"dataframe\">\n",
              "  <thead>\n",
              "    <tr style=\"text-align: right;\">\n",
              "      <th></th>\n",
              "      <th>userId</th>\n",
              "      <th>movieId</th>\n",
              "      <th>rating</th>\n",
              "      <th>timestamp</th>\n",
              "    </tr>\n",
              "  </thead>\n",
              "  <tbody>\n",
              "    <tr>\n",
              "      <th>0</th>\n",
              "      <td>1</td>\n",
              "      <td>1193</td>\n",
              "      <td>5</td>\n",
              "      <td>978300760</td>\n",
              "    </tr>\n",
              "    <tr>\n",
              "      <th>1</th>\n",
              "      <td>1</td>\n",
              "      <td>661</td>\n",
              "      <td>3</td>\n",
              "      <td>978302109</td>\n",
              "    </tr>\n",
              "    <tr>\n",
              "      <th>2</th>\n",
              "      <td>1</td>\n",
              "      <td>914</td>\n",
              "      <td>3</td>\n",
              "      <td>978301968</td>\n",
              "    </tr>\n",
              "    <tr>\n",
              "      <th>3</th>\n",
              "      <td>1</td>\n",
              "      <td>3408</td>\n",
              "      <td>4</td>\n",
              "      <td>978300275</td>\n",
              "    </tr>\n",
              "    <tr>\n",
              "      <th>4</th>\n",
              "      <td>1</td>\n",
              "      <td>2355</td>\n",
              "      <td>5</td>\n",
              "      <td>978824291</td>\n",
              "    </tr>\n",
              "  </tbody>\n",
              "</table>\n",
              "</div>"
            ],
            "text/plain": [
              "   userId  movieId  rating  timestamp\n",
              "0       1     1193       5  978300760\n",
              "1       1      661       3  978302109\n",
              "2       1      914       3  978301968\n",
              "3       1     3408       4  978300275\n",
              "4       1     2355       5  978824291"
            ]
          },
          "metadata": {
            "tags": []
          },
          "execution_count": 1
        }
      ]
    },
    {
      "cell_type": "code",
      "metadata": {
        "id": "vg-knNbtR1i4"
      },
      "source": [
        "# создаём разреженную матрицу user*item\n",
        "from scipy.sparse import coo_matrix\n",
        "\n",
        "user_item_matrix = coo_matrix((\n",
        "    (ratings[\"rating\"] > 0).astype(np.float32), # по колонке оценок пораждается булевская колонка \"нравится\"\n",
        "    (ratings[\"userId\"], ratings[\"movieId\"])    # назначение матрицы строк и столбцов (ID пронумерованны плотно)\n",
        "))\n",
        "\n",
        "user_item_matrix.eliminate_zeros()"
      ],
      "execution_count": null,
      "outputs": []
    },
    {
      "cell_type": "code",
      "metadata": {
        "id": "G65NYwuHR1i4"
      },
      "source": [
        "# делим разреженную матрицу на обучающую и тестовую\n",
        "total_len = user_item_matrix.data.size\n",
        "train_len = int(total_len * 0.8)\n",
        "all_indices = np.arange(total_len)\n",
        "np.random.seed(42)\n",
        "train_indices = np.random.choice(all_indices, train_len, replace=False)\n",
        "train_mask = np.in1d(all_indices, train_indices)"
      ],
      "execution_count": null,
      "outputs": []
    },
    {
      "cell_type": "code",
      "metadata": {
        "id": "W98kAAtNR1i5"
      },
      "source": [
        "# функция наложения маски на разреженные матрицы\n",
        "def get_masked(arr, mask):\n",
        "    return coo_matrix(\n",
        "        (\n",
        "            [np.float32(item) for item in arr.data[mask]],\n",
        "            (arr.row[mask], arr.col[mask])\n",
        "        ), arr.shape\n",
        "    )"
      ],
      "execution_count": null,
      "outputs": []
    },
    {
      "cell_type": "code",
      "metadata": {
        "id": "ViAZht64R1i5"
      },
      "source": [
        "# подготовка train и  test матриц\n",
        "\n",
        "train_csr = get_masked(user_item_matrix, train_mask).tocsr()\n",
        "train = train_csr.T\n",
        "test_coo = get_masked(user_item_matrix, ~train_mask)\n",
        "test_csr = test_coo.tocsr()"
      ],
      "execution_count": null,
      "outputs": []
    },
    {
      "cell_type": "code",
      "metadata": {
        "id": "pVr4LhOWR1i5"
      },
      "source": [
        "# получение рекомендаций\n",
        "users = list(set(test_coo.row))\n",
        "\n",
        "def get_recs(user, model):\n",
        "    return{\n",
        "        user: model.recommend(userid=user, user_items=train_csr, N=50)\n",
        "        for user in users\n",
        "    }"
      ],
      "execution_count": null,
      "outputs": []
    },
    {
      "cell_type": "code",
      "metadata": {
        "id": "uKLmL7r8R1i6"
      },
      "source": [
        "# подсчет hitrate \n",
        "def hitrate (k, recs, users):\n",
        "    hits = 0\n",
        "    for user in users:\n",
        "        if recs[user]:\n",
        "            rec_items, _ = zip(*recs[user]) # выемка рекомендаций, если они есть из матрицы \n",
        "            hits += len(set(rec_items[:k]).intersection(set(test_csr[user].indices))) > 0\n",
        "    return hits / len(users) "
      ],
      "execution_count": null,
      "outputs": []
    },
    {
      "cell_type": "code",
      "metadata": {
        "id": "dwf7Cb00R1i6"
      },
      "source": [
        "from implicit.nearest_neighbours import CosineRecommender\n",
        "from implicit.als import AlternatingLeastSquares"
      ],
      "execution_count": null,
      "outputs": []
    },
    {
      "cell_type": "code",
      "metadata": {
        "id": "qSun9M_DR1i6"
      },
      "source": [
        "# крсинусная мера\n",
        "cosine = CosineRecommender(K=22)"
      ],
      "execution_count": null,
      "outputs": []
    },
    {
      "cell_type": "code",
      "metadata": {
        "id": "rTcsfLnyR1i7",
        "outputId": "0783f777-0457-4599-fa92-4659b58f1e31",
        "colab": {
          "referenced_widgets": [
            "abbdff210ad14b44a5af53b07dae8d80"
          ]
        }
      },
      "source": [
        "%%time\n",
        "\n",
        "cosine.fit(train)"
      ],
      "execution_count": null,
      "outputs": [
        {
          "output_type": "display_data",
          "data": {
            "application/vnd.jupyter.widget-view+json": {
              "model_id": "abbdff210ad14b44a5af53b07dae8d80",
              "version_major": 2,
              "version_minor": 0
            },
            "text/plain": [
              "HBox(children=(HTML(value=''), FloatProgress(value=0.0, max=3953.0), HTML(value='')))"
            ]
          },
          "metadata": {
            "tags": []
          }
        },
        {
          "output_type": "stream",
          "text": [
            "\n",
            "CPU times: user 825 ms, sys: 28.1 ms, total: 853 ms\n",
            "Wall time: 847 ms\n"
          ],
          "name": "stdout"
        }
      ]
    },
    {
      "cell_type": "code",
      "metadata": {
        "id": "ldv8Z68jR1i7",
        "outputId": "1227196c-5eab-4155-b180-b23b19365852"
      },
      "source": [
        "%%time\n",
        "\n",
        "# посчитаем по N_test рекомендаций для каждого пользователя из тестовой выборки\n",
        "cosine_recs = get_recs(users, cosine)"
      ],
      "execution_count": null,
      "outputs": [
        {
          "output_type": "stream",
          "text": [
            "CPU times: user 397 ms, sys: 19.8 ms, total: 417 ms\n",
            "Wall time: 418 ms\n"
          ],
          "name": "stdout"
        }
      ]
    },
    {
      "cell_type": "code",
      "metadata": {
        "id": "AArlO69ZR1i7",
        "outputId": "680f0e11-c73b-4388-a97f-a5dc2b56f696"
      },
      "source": [
        "print('hitrate=50  ', hitrate(50, cosine_recs, users))"
      ],
      "execution_count": null,
      "outputs": [
        {
          "output_type": "stream",
          "text": [
            "hitrate=50   0.9671805072103431\n"
          ],
          "name": "stdout"
        }
      ]
    },
    {
      "cell_type": "code",
      "metadata": {
        "id": "x4W00W2sR1i7"
      },
      "source": [
        "# ALS\n",
        "import os\n",
        "\n",
        "os.environ['OPENBLAS_NUM_THREADS'] = '1'\n",
        "os.environ['MKL_NUM_THREADS'] = '1'\n",
        "als = AlternatingLeastSquares(factors=60, iterations=20, random_state=42)"
      ],
      "execution_count": null,
      "outputs": []
    },
    {
      "cell_type": "code",
      "metadata": {
        "id": "ntVoOWdzR1i8",
        "outputId": "58bf261d-36bb-47bc-ad5b-488c7181e4fa",
        "colab": {
          "referenced_widgets": [
            "22ad19d11c87432990fd4742edd29ed2"
          ]
        }
      },
      "source": [
        "%%time\n",
        "\n",
        "als.fit(train)"
      ],
      "execution_count": null,
      "outputs": [
        {
          "output_type": "display_data",
          "data": {
            "application/vnd.jupyter.widget-view+json": {
              "model_id": "22ad19d11c87432990fd4742edd29ed2",
              "version_major": 2,
              "version_minor": 0
            },
            "text/plain": [
              "HBox(children=(HTML(value=''), FloatProgress(value=0.0, max=20.0), HTML(value='')))"
            ]
          },
          "metadata": {
            "tags": []
          }
        },
        {
          "output_type": "stream",
          "text": [
            "\n",
            "CPU times: user 22.9 s, sys: 205 ms, total: 23.1 s\n",
            "Wall time: 5.86 s\n"
          ],
          "name": "stdout"
        }
      ]
    },
    {
      "cell_type": "code",
      "metadata": {
        "id": "DhLJfsi2R1i8",
        "outputId": "b366884a-252b-4136-e34a-7523bd1052f0"
      },
      "source": [
        "%%time\n",
        "\n",
        "# посчитаем по N_test рекомендаций для каждого пользователя из тестовой выборки\n",
        "als_recs = get_recs(users, als)"
      ],
      "execution_count": null,
      "outputs": [
        {
          "output_type": "stream",
          "text": [
            "CPU times: user 9.76 s, sys: 47.2 ms, total: 9.81 s\n",
            "Wall time: 2.45 s\n"
          ],
          "name": "stdout"
        }
      ]
    },
    {
      "cell_type": "code",
      "metadata": {
        "id": "JSodq8T0R1i8",
        "outputId": "52a9e8b3-d46f-4c24-9cae-3c67285da8cd"
      },
      "source": [
        "print('hitrate=50  ', hitrate(50, als_recs, users))"
      ],
      "execution_count": null,
      "outputs": [
        {
          "output_type": "stream",
          "text": [
            "hitrate=50   0.9799436432952097\n"
          ],
          "name": "stdout"
        }
      ]
    },
    {
      "cell_type": "code",
      "metadata": {
        "id": "VY9xLIqLR1i9"
      },
      "source": [
        "# нормализация score\n",
        "from sklearn.preprocessing import normalize\n",
        "\n",
        "def normalize_score(alg, users):\n",
        "    for user in users:\n",
        "        if alg[user]:\n",
        "            rec_items, rec_us = zip(*alg[user]) # выемка рекомендаций, если они есть из матрицы\n",
        "            rec_us = normalize(np.array(rec_us, dtype=object).reshape(1, -1))\n",
        "            rec_us = rec_us[0].tolist()\n",
        "            for i in range(len(alg[user])):\n",
        "                alg[user][i] = (rec_items[i], rec_us[i])\n",
        "    return alg"
      ],
      "execution_count": null,
      "outputs": []
    },
    {
      "cell_type": "code",
      "metadata": {
        "id": "jP0nLc22R1i9"
      },
      "source": [
        "als_recs = normalize_score(als_recs, users)\n",
        "cosine_recs = normalize_score(cosine_recs, users)"
      ],
      "execution_count": null,
      "outputs": []
    },
    {
      "cell_type": "code",
      "metadata": {
        "id": "X3INEwVxR1i9"
      },
      "source": [
        "# поиск одинаковых фильмов в рекомендациях для одного пользователя\n",
        "def grouped_movies(movies):\n",
        "    result = {}\n",
        "    for movie in movies:\n",
        "        # проверка, встречался ли уже этот фильм\n",
        "        if movie[0] in result:\n",
        "            # добавление текушего значения score\n",
        "            result[movie[0]] = result[movie[0]] + movie[1]\n",
        "        else:\n",
        "            result[movie[0]] = movie[1]\n",
        "    return result"
      ],
      "execution_count": null,
      "outputs": []
    },
    {
      "cell_type": "code",
      "metadata": {
        "id": "qDq0bSMdR1i9"
      },
      "source": [
        "# создание словаря рекомендаций на основании взвешенных score\n",
        "new_recs = dict()\n",
        "for user in users:\n",
        "    for i in range(len(als_recs[user])):\n",
        "        # так как ALS работает лучше, коэф = 0.7\n",
        "        als_recs[user][i] =  (als_recs[user][i][0], 0.7*als_recs[user][i][1])\n",
        "    for i in range(len(cosine_recs[user])):\n",
        "        # коэф = 1 - коэф для ALS\n",
        "        cosine_recs[user][i] =  (cosine_recs[user][i][0], 0.3*cosine_recs[user][i][1])     \n",
        "    new_rec = als_recs[user] + cosine_recs[user]\n",
        "    new_rec = grouped_movies(new_rec)\n",
        "    new_recs[user] = dict(sorted(new_rec.items(), key=lambda item: item[1], reverse = True ))\n",
        "    new_recs[user] = [(movie_id, score) for movie_id, score in new_recs[user].items()] "
      ],
      "execution_count": null,
      "outputs": []
    },
    {
      "cell_type": "code",
      "metadata": {
        "id": "XFGiP0McR1i-",
        "outputId": "1df2b40c-0b81-4d80-edc2-78f795f7d88a"
      },
      "source": [
        "print('ALS hitrate:  ', hitrate(50, als_recs, users))\n",
        "print('Cosine hitrate:  ', hitrate(50, cosine_recs, users))\n",
        "print('Hybrid hitrate:  ', hitrate(50, new_recs, users))"
      ],
      "execution_count": null,
      "outputs": [
        {
          "output_type": "stream",
          "text": [
            "ALS hitrate:   0.9799436432952097\n",
            "Cosine hitrate:   0.9671805072103431\n",
            "Hybrid hitrate:   0.9801093983092989\n"
          ],
          "name": "stdout"
        }
      ]
    },
    {
      "cell_type": "code",
      "metadata": {
        "id": "1zZKFru0R1i-"
      },
      "source": [
        ""
      ],
      "execution_count": null,
      "outputs": []
    }
  ]
}