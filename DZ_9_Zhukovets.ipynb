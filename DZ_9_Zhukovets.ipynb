{
  "nbformat": 4,
  "nbformat_minor": 0,
  "metadata": {
    "kernelspec": {
      "display_name": "Python 3",
      "language": "python",
      "name": "python3"
    },
    "language_info": {
      "codemirror_mode": {
        "name": "ipython",
        "version": 3
      },
      "file_extension": ".py",
      "mimetype": "text/x-python",
      "name": "python",
      "nbconvert_exporter": "python",
      "pygments_lexer": "ipython3",
      "version": "3.8.3"
    },
    "colab": {
      "name": "DZ_9_Zhukovets.ipynb",
      "provenance": []
    }
  },
  "cells": [
    {
      "cell_type": "code",
      "metadata": {
        "id": "t7YXMQHVSxBV"
      },
      "source": [
        "import pandas as pd\n",
        "import numpy as np\n",
        "\n",
        "from statsmodels.tsa.stattools import adfuller\n",
        "import statsmodels.api as sm\n",
        "import statsmodels.tsa.api as smt\n",
        "from scipy.stats import boxcox\n",
        "\n",
        "import matplotlib.pyplot as plt\n",
        "\n",
        "from arch import arch_model\n",
        "\n",
        "import xgboost as xgb\n",
        "from sklearn.metrics import mean_squared_error as MSE \n",
        "from hmmlearn.hmm import GaussianHMM\n",
        "\n",
        "import warnings\n",
        "warnings.filterwarnings(\"ignore\")"
      ],
      "execution_count": null,
      "outputs": []
    },
    {
      "cell_type": "code",
      "metadata": {
        "id": "bviPk0y8SxBa"
      },
      "source": [
        "# чтение данных Mean monthly air temperature (Deg. F) Nottingham Castle\n",
        "\n",
        "mean_monthly_temp = pd.read_csv(\"Series/mean-monthly-air-temperature-deg.csv\")"
      ],
      "execution_count": null,
      "outputs": []
    },
    {
      "cell_type": "code",
      "metadata": {
        "id": "PYCC-qj2SxBb"
      },
      "source": [
        "series = mean_monthly_temp[\"Deg\"]"
      ],
      "execution_count": null,
      "outputs": []
    },
    {
      "cell_type": "code",
      "metadata": {
        "id": "6Tseix9HSxBb"
      },
      "source": [
        "# теста Дики-Фуллера\n",
        "\n",
        "def test_stationarity(timeseries):\n",
        "    print('Results of Dickey-Fuller Test:')\n",
        "    dftest = adfuller(timeseries, autolag='AIC')\n",
        "    dfoutput = pd.Series(dftest[0:4], index=['Test Statistic', 'p-value', '#Lags Used', 'Number of Observations Used'])\n",
        "    for [key, value] in dftest[4].items():\n",
        "        dfoutput['Critical Value (%s)' % key] = value\n",
        "    print(dfoutput)"
      ],
      "execution_count": null,
      "outputs": []
    },
    {
      "cell_type": "code",
      "metadata": {
        "id": "ZOzEA4UJSxBc"
      },
      "source": [
        "# Time-series plot\n",
        "\n",
        "def tsplot(y, lags=None, figsize=(14, 8), style='bmh'):\n",
        "    test_stationarity(y)\n",
        "    if not isinstance(y, pd.Series):\n",
        "        y = pd.Series(y)\n",
        "    with plt.style.context(style):\n",
        "        plt.figure(figsize=figsize)\n",
        "        layout = (5, 1)\n",
        "        ts_ax = plt.subplot2grid(layout, (0, 0), rowspan=2)\n",
        "        acf_ax = plt.subplot2grid(layout, (2, 0))\n",
        "        pacf_ax = plt.subplot2grid(layout, (3, 0))\n",
        "        qq_ax = plt.subplot2grid(layout, (4, 0))\n",
        "\n",
        "        y.plot(ax=ts_ax, color='blue', label='Or')\n",
        "        ts_ax.set_title('Original')\n",
        "\n",
        "        smt.graphics.plot_acf(y, lags=lags, ax=acf_ax, alpha=0.05)\n",
        "        smt.graphics.plot_pacf(y, lags=lags, ax=pacf_ax, alpha=0.05)\n",
        "        # qqplot для определения нормальности распределения остатков\n",
        "        sm.qqplot(y, line='s', ax=qq_ax)\n",
        "        \n",
        "        plt.tight_layout()\n",
        "    return"
      ],
      "execution_count": null,
      "outputs": []
    },
    {
      "cell_type": "code",
      "metadata": {
        "id": "gQmWWPsoSxBd"
      },
      "source": [
        "# нормализация дисперсии\n",
        "series = boxcox(series, 0)\n",
        "# дифференцирование (избавление от тренда)\n",
        "series = np.diff(series, 1)\n",
        "# избавление от сезонности\n",
        "series = series[6:] - series[:-6]\n",
        "tsplot(series)"
      ],
      "execution_count": null,
      "outputs": []
    },
    {
      "cell_type": "code",
      "metadata": {
        "id": "cHfSNnUpSxBe"
      },
      "source": [
        "# подбор гиперпараметров для ARIMA\n",
        "\n",
        "best_aic = np.inf \n",
        "best_order = None\n",
        "best_mdl = None\n",
        "\n",
        "for i in range(5):\n",
        "    for d in range(5):\n",
        "        for j in range(5):\n",
        "            try:\n",
        "                tmp_mdl = smt.ARIMA(series, order=(i,d,j)).fit(method='mle', trend='nc')\n",
        "                tmp_aic = tmp_mdl.aic\n",
        "                if tmp_aic < best_aic:\n",
        "                    best_aic = tmp_aic\n",
        "                    best_order = (i, d, j)\n",
        "                    best_mdl = tmp_mdl\n",
        "            except: continue\n",
        "\n",
        "\n",
        "print('aic: {:6.5f} | order: {}'.format(best_aic, best_order))\n",
        "\n",
        "\n",
        "tsplot(best_mdl.resid, lags=30)"
      ],
      "execution_count": null,
      "outputs": []
    },
    {
      "cell_type": "code",
      "metadata": {
        "id": "0YDiXJ4MSxBe"
      },
      "source": [
        "aic = best_aic\n",
        "order = best_order \n",
        "mdl = best_mdl"
      ],
      "execution_count": null,
      "outputs": []
    },
    {
      "cell_type": "code",
      "metadata": {
        "id": "Bwwp4FiiSxBf"
      },
      "source": [
        "tsplot(mdl.resid)"
      ],
      "execution_count": null,
      "outputs": []
    },
    {
      "cell_type": "code",
      "metadata": {
        "id": "96IriRAJSxBf"
      },
      "source": [
        "# предсказание значений (+ 20 будущих)\n",
        "\n",
        "with plt.style.context('bmh'):\n",
        "    plt.figure(figsize=(14,8))\n",
        "    ax = plt.axes()\n",
        "    best_mdl.plot_predict(0, len(series)+20, ax=ax)\n",
        "    plt.plot(series, color='red', label='Series')\n",
        "    plt.legend()\n",
        "    plt.show()"
      ],
      "execution_count": null,
      "outputs": []
    },
    {
      "cell_type": "code",
      "metadata": {
        "id": "Lw1U2ul_SxBg"
      },
      "source": [
        "# подгон модели arch, используя наилучшие параметры модели arima\n",
        "p_ = order[0]\n",
        "o_ = order[1]\n",
        "q_ = order[2]\n",
        "\n",
        "am = arch_model(series, p=p_, o=o_, q=q_, dist='StudentsT')\n",
        "res = am.fit(update_freq=5, disp='off')\n",
        "print(res.summary())"
      ],
      "execution_count": null,
      "outputs": []
    },
    {
      "cell_type": "code",
      "metadata": {
        "id": "naKO6QhRSxBg"
      },
      "source": [
        "# разбиение данных на train и test\n",
        "\n",
        "def prepareData(data, lag_start=5, lag_end=20, test_size=0.15):\n",
        "    \n",
        "    data = pd.DataFrame(data.copy())\n",
        "    \n",
        "    # считаем индекс в датафрейме, после которого начинается тестовый отрезок\n",
        "    test_index = int(len(data)*(1-test_size))\n",
        "    \n",
        "    # добавляем лаги исходного ряда в качестве признаков\n",
        "    for i in range(lag_start, lag_end):\n",
        "        data[\"lag_{}\".format(i)] = data.Deg.shift(i)\n",
        "        \n",
        "    data = data.dropna()\n",
        "    data = data.reset_index(drop=True)\n",
        "    data = data.drop([\"Month\"], axis=1)\n",
        "     \n",
        "    # разбиваем весь датасет на тренировочную и тестовую выборку\n",
        "    X_train = data.loc[:test_index].drop([\"Deg\"], axis=1)\n",
        "    y_train = data.loc[:test_index][\"Deg\"]\n",
        "    X_test = data.loc[test_index:].drop([\"Deg\"], axis=1)\n",
        "    y_test = data.loc[test_index:][\"Deg\"]\n",
        "    \n",
        "    return X_train, X_test, y_train, y_test"
      ],
      "execution_count": null,
      "outputs": []
    },
    {
      "cell_type": "code",
      "metadata": {
        "id": "2YNNEVgUSxBh"
      },
      "source": [
        "X_train, X_test, y_train, y_test = prepareData(mean_monthly_temp, lag_start=1, lag_end=20, test_size=0.3)"
      ],
      "execution_count": null,
      "outputs": []
    },
    {
      "cell_type": "code",
      "metadata": {
        "id": "NM-MZKbdSxBh"
      },
      "source": [
        "# использоание xgboost для прогнозирования графика\n",
        "\n",
        "xgb_r = xgb.XGBRegressor(n_estimators = 21) \n",
        "  \n",
        "# Fitting the model \n",
        "xgb_r.fit(X_train, y_train) \n",
        "  \n",
        "# Predict the model \n",
        "prediction = xgb_r.predict(X_test) \n",
        "\n",
        "rmse = MSE(y_test, prediction, squared=False)\n",
        "print(\"RMSE : % f\" %(rmse)) \n",
        "\n",
        "plt.figure(figsize=(14, 8))\n",
        "plt.plot(prediction, \"r\", label=\"prediction\")\n",
        "plt.plot(y_test.values, label=\"actual\")\n",
        "plt.legend(loc=\"best\")\n",
        "plt.title(\"Linear regression\")\n",
        "plt.grid(True);"
      ],
      "execution_count": null,
      "outputs": []
    },
    {
      "cell_type": "code",
      "metadata": {
        "id": "6Awo6qTSSxBi"
      },
      "source": [
        "data = mean_monthly_temp['Deg']"
      ],
      "execution_count": null,
      "outputs": []
    },
    {
      "cell_type": "code",
      "metadata": {
        "id": "w3zGhvjESxBi"
      },
      "source": [
        "values = data.values.reshape(-1,1)"
      ],
      "execution_count": null,
      "outputs": []
    },
    {
      "cell_type": "code",
      "metadata": {
        "id": "LG-jqylJSxBj"
      },
      "source": [
        "# прогноз с использованием НММ\n",
        "\n",
        "model = GaussianHMM(n_components=14,\n",
        "                        covariance_type=\"diag\",\n",
        "                        n_iter=1000)\n",
        "model.fit(values)\n",
        "labels = model.predict(values)\n",
        "means = np.zeros_like(values)\n",
        "for i in range(model.n_components):\n",
        "    means[labels == i] = model.means_[i]\n",
        "    \n",
        "plt.figure(figsize=(12, 6))\n",
        "plt.plot(values)\n",
        "plt.plot(means, linewidth=2)"
      ],
      "execution_count": null,
      "outputs": []
    },
    {
      "cell_type": "code",
      "metadata": {
        "id": "j4z86BgfSxBj"
      },
      "source": [
        "# прогноз ряда на 20 значений\n",
        "\n",
        "model = GaussianHMM(n_components=14,\n",
        "                        covariance_type=\"diag\",\n",
        "                        n_iter=1000)\n",
        "model.fit(values[:220])\n",
        "labels = model.predict(values[221:])\n",
        "means = np.zeros_like(values[221:])\n",
        "for i in range(model.n_components):\n",
        "    means[labels == i] = model.means_[i]\n",
        "    \n",
        "plt.figure(figsize=(12, 6))\n",
        "plt.plot(values)\n",
        "plt.plot(range(len(values[:221]),len(values)), means,  linewidth=2)\n",
        "rmse = MSE(values[221:], means, squared=False)\n",
        "print(\"RMSE : % f\" %(rmse)) "
      ],
      "execution_count": null,
      "outputs": []
    },
    {
      "cell_type": "code",
      "metadata": {
        "id": "OVsb6OwKSxBj"
      },
      "source": [
        ""
      ],
      "execution_count": null,
      "outputs": []
    }
  ]
}